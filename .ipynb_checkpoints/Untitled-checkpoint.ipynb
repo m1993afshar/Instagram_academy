{
 "cells": [
  {
   "cell_type": "markdown",
   "metadata": {},
   "source": [
    "# 1. Instagram python api\n"
   ]
  },
  {
   "cell_type": "markdown",
   "metadata": {},
   "source": [
    "## 1.1 Installation :\n",
    "\n",
    "Enter this command in your terminal to install the package:\n",
    "\n",
    "``` pip3 install InstagramApi ```\n",
    "\n",
    "github address:\n",
    "\n",
    "https://github.com/LevPasha/Instagram-API-python"
   ]
  },
  {
   "cell_type": "markdown",
   "metadata": {},
   "source": [
    "## 1.2 Import to your code\n",
    "\n",
    "You can use the Instagram-python api by add this line to your code:\n",
    "\n"
   ]
  },
  {
   "cell_type": "code",
   "execution_count": 30,
   "metadata": {
    "collapsed": true
   },
   "outputs": [],
   "source": [
    "from InstagramAPI import InstagramAPI"
   ]
  },
  {
   "cell_type": "markdown",
   "metadata": {},
   "source": [
    "## 1.3 Create an object of InstagramAPI "
   ]
  },
  {
   "cell_type": "code",
   "execution_count": 32,
   "metadata": {},
   "outputs": [
    {
     "name": "stdout",
     "output_type": "stream",
     "text": [
      "Password:········\n",
      "<class 'InstagramAPI.InstagramAPI.InstagramAPI'>\n"
     ]
    }
   ],
   "source": [
    "import getpass\n",
    "user_name = \"fanasaacademy\"\n",
    "pass_word = getpass.getpass('Password:')\n",
    "api = InstagramAPI(user_name, pass_word)\n",
    "print (type (api))"
   ]
  },
  {
   "cell_type": "markdown",
   "metadata": {},
   "source": [
    "## 1.4 Check if logged in or not"
   ]
  },
  {
   "cell_type": "code",
   "execution_count": 33,
   "metadata": {},
   "outputs": [
    {
     "name": "stdout",
     "output_type": "stream",
     "text": [
      "False\n"
     ]
    }
   ],
   "source": [
    "print (api.isLoggedIn)"
   ]
  },
  {
   "cell_type": "markdown",
   "metadata": {},
   "source": [
    "## 1.3 Login to your instagram account"
   ]
  },
  {
   "cell_type": "code",
   "execution_count": 35,
   "metadata": {},
   "outputs": [
    {
     "name": "stdout",
     "output_type": "stream",
     "text": [
      "login ...\n",
      "<Response [200]>\n",
      "True\n"
     ]
    }
   ],
   "source": [
    "try:\n",
    "    print(\"login ...\")\n",
    "    api.login()\n",
    "    print (api.LastResponse)\n",
    "    print (api.isLoggedIn)\n",
    "except Exception as ex:\n",
    "    print(ex.__doc__)\n"
   ]
  },
  {
   "cell_type": "markdown",
   "metadata": {},
   "source": [
    "**Now with the project:**\n",
    "1. Import api to your code\n",
    "2. write your username:\n",
    "3. create an object of InstagramAPI\n",
    "4. do login\n",
    "5. find out what do this functions do:\n",
    "    * save_api_to_pkl() \n",
    "    * load_api_pkl()\n"
   ]
  },
  {
   "cell_type": "markdown",
   "metadata": {},
   "source": [
    "## 1.4. Get your account Information "
   ]
  },
  {
   "cell_type": "code",
   "execution_count": 14,
   "metadata": {},
   "outputs": [
    {
     "name": "stdout",
     "output_type": "stream",
     "text": [
      "<Response [200]>\n"
     ]
    }
   ],
   "source": [
    "api.getSelfUsernameInfo()\n",
    "print (api.LastResponse)"
   ]
  },
  {
   "cell_type": "code",
   "execution_count": 17,
   "metadata": {},
   "outputs": [],
   "source": [
    "from pprint import pprint\n",
    "self_user_info = api.LastJson['user']\n",
    "#pprint(self_user_info)\n"
   ]
  },
  {
   "cell_type": "markdown",
   "metadata": {
    "collapsed": true
   },
   "source": [
    "**Now with the project:**\n",
    "\n",
    "Find out what do this functions do:\n",
    "    * get_target_lists()\n",
    "    * analyze_users()"
   ]
  },
  {
   "cell_type": "markdown",
   "metadata": {
    "collapsed": true
   },
   "source": [
    "# 1.5 Search a user"
   ]
  },
  {
   "cell_type": "code",
   "execution_count": 27,
   "metadata": {},
   "outputs": [
    {
     "name": "stdout",
     "output_type": "stream",
     "text": [
      "<Response [200]>\n"
     ]
    }
   ],
   "source": [
    "# search username \n",
    "api.searchUsername(usernameName=\"erfanalirezai\")\n",
    "print (api.LastResponse)\n",
    "# get userinfo\n",
    "user_info = api.LastJson['user']\n",
    "# pprint(user_info)\n"
   ]
  },
  {
   "cell_type": "markdown",
   "metadata": {},
   "source": [
    "**Now with the project:** \n",
    "* In search_user() :\n",
    "    1. search username\n",
    "    2. assert api response is 200\n",
    "    3. get user info\n",
    "    4. check if to usernames is equal\n",
    "    5. call refine_user_info from preprocessing module\n",
    "    6. complete refine_user_info() function"
   ]
  },
  {
   "cell_type": "markdown",
   "metadata": {},
   "source": [
    "# 1.6 Get user media\n"
   ]
  },
  {
   "cell_type": "code",
   "execution_count": 25,
   "metadata": {},
   "outputs": [
    {
     "name": "stdout",
     "output_type": "stream",
     "text": [
      "<Response [200]>\n"
     ]
    }
   ],
   "source": [
    "# get user feed\n",
    "api.getUserFeed(usernameId=253103519)\n",
    "print (api.LastResponse)\n",
    "user_media = api.LastJson['items']\n",
    "#pprint(user_media[0])\n",
    "\n",
    "\n"
   ]
  },
  {
   "cell_type": "markdown",
   "metadata": {
    "collapsed": true
   },
   "source": [
    "# 1.7 Engagement Calculator\n",
    "\n",
    "Based on the : https://influencermarketinghub.com/instagram-money-calculator/, we will write a calculator to analyze an influencer engagement.\n",
    "\n",
    "* ``` enagagement = likes + comments ```\n",
    "* ``` engagement_rate = 100 * mean_of_engagement / followers_count ```\n"
   ]
  },
  {
   "cell_type": "markdown",
   "metadata": {
    "collapsed": true
   },
   "source": [
    "**Now with the project:** \n",
    "* In engagement_calculator() :\n",
    "    1. Check the information of each post\n",
    "    2. Complete variables that is None\n",
    "    3. Implement the engagement_rate formula\n",
    "    4. Add enagement rate to user info\n",
    "    "
   ]
  },
  {
   "cell_type": "markdown",
   "metadata": {
    "collapsed": true
   },
   "source": [
    " # 1.8 Get User Followers\n",
    "    \n"
   ]
  },
  {
   "cell_type": "code",
   "execution_count": 38,
   "metadata": {},
   "outputs": [
    {
     "name": "stdout",
     "output_type": "stream",
     "text": [
      "<Response [200]>\n"
     ]
    }
   ],
   "source": [
    "api.getUserFollowers(usernameId=253103519)\n",
    "print(api.LastResponse)\n",
    "user_list = api.LastJson['users']\n",
    "# pprint(user_list[0])"
   ]
  },
  {
   "cell_type": "markdown",
   "metadata": {
    "collapsed": true
   },
   "source": [
    "**Now with the project:** \n",
    "* In get_user_followers() :\n",
    "    1. send request to get user followers\n",
    "    2. assert api response is 200\n",
    "    3. complete the code to get user list\n",
    "    4. complete refine_user_list() function"
   ]
  },
  {
   "cell_type": "markdown",
   "metadata": {
    "collapsed": true
   },
   "source": [
    " # 1.9 Get User Followings\n"
   ]
  },
  {
   "cell_type": "markdown",
   "metadata": {
    "collapsed": true
   },
   "source": [
    "Find out how does the get_user_followings() function work? "
   ]
  },
  {
   "cell_type": "markdown",
   "metadata": {
    "collapsed": true
   },
   "source": [
    "**Mini-puzzle:** \n",
    "\n",
    "Present an Idea to develope an ***unfollow detector***\n",
    "\n",
    "Can you implement it?\n"
   ]
  }
 ],
 "metadata": {
  "kernelspec": {
   "display_name": "Python 3",
   "language": "python",
   "name": "python3"
  },
  "language_info": {
   "codemirror_mode": {
    "name": "ipython",
    "version": 3
   },
   "file_extension": ".py",
   "mimetype": "text/x-python",
   "name": "python",
   "nbconvert_exporter": "python",
   "pygments_lexer": "ipython3",
   "version": "3.6.3"
  }
 },
 "nbformat": 4,
 "nbformat_minor": 2
}
